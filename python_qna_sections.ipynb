{
  "cells": [
    {
      "cell_type": "markdown",
      "metadata": {},
      "source": [
        "# \ud83d\udcd8 Theory Questions & Answers"
      ]
    },
    {
      "cell_type": "markdown",
      "metadata": {},
      "source": [
        "### Q1\nDifference between interpreted and compiled languages: Interpreted languages execute code line by line at runtime (e.g., Python), while compiled languages translate code into machine code before execution (e.g., C++)."
      ]
    },
    {
      "cell_type": "markdown",
      "metadata": {},
      "source": [
        "### Q2\nException handling in Python: It allows handling runtime errors using try, except, else, and finally blocks to prevent program crashes."
      ]
    },
    {
      "cell_type": "markdown",
      "metadata": {},
      "source": [
        "### Q3\nPurpose of finally block: It always executes, regardless of whether an exception occurred, often used for cleanup (closing files, releasing resources)."
      ]
    },
    {
      "cell_type": "markdown",
      "metadata": {},
      "source": [
        "### Q4\nLogging in Python: It records events that happen during execution, useful for debugging, monitoring, and auditing applications."
      ]
    },
    {
      "cell_type": "markdown",
      "metadata": {},
      "source": [
        "### Q5\nSignificance of __del__ method: It's a destructor method called when an object is about to be destroyed, used for cleanup tasks."
      ]
    },
    {
      "cell_type": "markdown",
      "metadata": {},
      "source": [
        "### Q6\nDifference between import and from ... import: 'import module' imports the whole module, while 'from module import function' imports specific functions/classes."
      ]
    },
    {
      "cell_type": "markdown",
      "metadata": {},
      "source": [
        "### Q7\nHandling multiple exceptions: Use multiple except blocks or a tuple of exceptions in one except block."
      ]
    },
    {
      "cell_type": "markdown",
      "metadata": {},
      "source": [
        "### Q8\nPurpose of with statement: It ensures proper resource management by automatically closing files after use."
      ]
    },
    {
      "cell_type": "markdown",
      "metadata": {},
      "source": [
        "### Q9\nDifference between multithreading and multiprocessing: Multithreading runs multiple threads in one process (shared memory), while multiprocessing runs separate processes (separate memory)."
      ]
    },
    {
      "cell_type": "markdown",
      "metadata": {},
      "source": [
        "### Q10\nAdvantages of logging: Provides history of execution, helps in debugging, identifies issues, and is better than print statements."
      ]
    },
    {
      "cell_type": "markdown",
      "metadata": {},
      "source": [
        "### Q11\nMemory management in Python: It includes allocation, reallocation, and garbage collection handled by Python's memory manager."
      ]
    },
    {
      "cell_type": "markdown",
      "metadata": {},
      "source": [
        "### Q12\nSteps in exception handling: Wrap risky code in try, handle exceptions in except, execute optional else if no error, finally for cleanup."
      ]
    },
    {
      "cell_type": "markdown",
      "metadata": {},
      "source": [
        "### Q13\nImportance of memory management: Prevents memory leaks, ensures efficient use of resources, and improves performance."
      ]
    },
    {
      "cell_type": "markdown",
      "metadata": {},
      "source": [
        "### Q14\nRole of try and except: try encloses code that may raise exceptions, except handles them gracefully."
      ]
    },
    {
      "cell_type": "markdown",
      "metadata": {},
      "source": [
        "### Q15\nGarbage collection in Python: Uses reference counting and cyclic garbage collector to free unused memory."
      ]
    },
    {
      "cell_type": "markdown",
      "metadata": {},
      "source": [
        "### Q16\nPurpose of else block in exception handling: Executes only if no exception occurs in try block."
      ]
    },
    {
      "cell_type": "markdown",
      "metadata": {},
      "source": [
        "### Q17\nCommon logging levels: DEBUG, INFO, WARNING, ERROR, CRITICAL."
      ]
    },
    {
      "cell_type": "markdown",
      "metadata": {},
      "source": [
        "### Q18\nDifference between os.fork() and multiprocessing: os.fork() works only on Unix-like systems to create processes, multiprocessing is cross-platform and provides more features."
      ]
    },
    {
      "cell_type": "markdown",
      "metadata": {},
      "source": [
        "### Q19\nImportance of closing a file: Ensures data is saved properly and resources are released."
      ]
    },
    {
      "cell_type": "markdown",
      "metadata": {},
      "source": [
        "### Q20\nDifference between file.read() and file.readline(): read() reads entire file (or given size), readline() reads one line at a time."
      ]
    },
    {
      "cell_type": "markdown",
      "metadata": {},
      "source": [
        "### Q21\nLogging module: Provides a flexible framework for logging messages in applications."
      ]
    },
    {
      "cell_type": "markdown",
      "metadata": {},
      "source": [
        "### Q22\nos module in file handling: Provides functions for interacting with the file system (path, remove, rename, etc.)."
      ]
    },
    {
      "cell_type": "markdown",
      "metadata": {},
      "source": [
        "### Q23\nChallenges of memory management: Memory leaks, fragmentation, and performance overhead."
      ]
    },
    {
      "cell_type": "markdown",
      "metadata": {},
      "source": [
        "### Q24\nRaise exception manually: Use raise Exception('message')."
      ]
    },
    {
      "cell_type": "markdown",
      "metadata": {},
      "source": [
        "### Q25\nImportance of multithreading: Useful for I/O-bound tasks, improving responsiveness, and concurrency."
      ]
    },
    {
      "cell_type": "markdown",
      "metadata": {},
      "source": [
        "# \ud83d\udda5\ufe0f Practical Questions & Programs"
      ]
    },
    {
      "cell_type": "code",
      "metadata": {},
      "execution_count": null,
      "outputs": [],
      "source": [
        "# Practical_Q1\nOpen file for writing: with open('file.txt','w') as f: f.write('Hello World')"
      ]
    },
    {
      "cell_type": "code",
      "metadata": {},
      "execution_count": null,
      "outputs": [],
      "source": [
        "# Practical_Q2\nRead file and print: with open('file.txt') as f: [print(line) for line in f]"
      ]
    },
    {
      "cell_type": "code",
      "metadata": {},
      "execution_count": null,
      "outputs": [],
      "source": [
        "# Practical_Q3\nHandle file not found: try: open('nofile.txt') except FileNotFoundError: print('File not found')"
      ]
    },
    {
      "cell_type": "code",
      "metadata": {},
      "execution_count": null,
      "outputs": [],
      "source": [
        "# Practical_Q4\nRead one file and write to another: with open('input.txt') as f1, open('output.txt','w') as f2: f2.write(f1.read())"
      ]
    },
    {
      "cell_type": "code",
      "metadata": {},
      "execution_count": null,
      "outputs": [],
      "source": [
        "# Practical_Q5\nCatch division by zero: try: x=1/0 except ZeroDivisionError: print('Division by zero')"
      ]
    },
    {
      "cell_type": "code",
      "metadata": {},
      "execution_count": null,
      "outputs": [],
      "source": [
        "# Practical_Q6\nLog division by zero: import logging; logging.basicConfig(filename='app.log'); try: 1/0 except ZeroDivisionError: logging.error('Division by zero')"
      ]
    },
    {
      "cell_type": "code",
      "metadata": {},
      "execution_count": null,
      "outputs": [],
      "source": [
        "# Practical_Q7\nLog levels: logging.info('Info'); logging.warning('Warning'); logging.error('Error')"
      ]
    },
    {
      "cell_type": "code",
      "metadata": {},
      "execution_count": null,
      "outputs": [],
      "source": [
        "# Practical_Q8\nHandle file open error: try: open('nofile.txt') except Exception as e: print('Error:',e)"
      ]
    },
    {
      "cell_type": "code",
      "metadata": {},
      "execution_count": null,
      "outputs": [],
      "source": [
        "# Practical_Q9\nRead file into list: with open('file.txt') as f: data=f.readlines()"
      ]
    },
    {
      "cell_type": "code",
      "metadata": {},
      "execution_count": null,
      "outputs": [],
      "source": [
        "# Practical_Q10\nAppend data: with open('file.txt','a') as f: f.write('extra data')"
      ]
    },
    {
      "cell_type": "code",
      "metadata": {},
      "execution_count": null,
      "outputs": [],
      "source": [
        "# Practical_Q11\nHandle missing dict key: try: d={'a':1}; print(d['b']) except KeyError: print('Key not found')"
      ]
    },
    {
      "cell_type": "code",
      "metadata": {},
      "execution_count": null,
      "outputs": [],
      "source": [
        "# Practical_Q12\nMultiple exceptions: try: lst=[1]; print(lst[2]) except IndexError: print('Index error') except KeyError: print('Key error')"
      ]
    },
    {
      "cell_type": "code",
      "metadata": {},
      "execution_count": null,
      "outputs": [],
      "source": [
        "# Practical_Q13\nCheck file exists: import os; print(os.path.exists('file.txt'))"
      ]
    },
    {
      "cell_type": "code",
      "metadata": {},
      "execution_count": null,
      "outputs": [],
      "source": [
        "# Practical_Q14\nLog info and error: logging.info('Running ok'); logging.error('Something failed')"
      ]
    },
    {
      "cell_type": "code",
      "metadata": {},
      "execution_count": null,
      "outputs": [],
      "source": [
        "# Practical_Q15\nPrint file content if not empty: with open('file.txt') as f: data=f.read(); print(data if data else 'Empty file')"
      ]
    },
    {
      "cell_type": "code",
      "metadata": {},
      "execution_count": null,
      "outputs": [],
      "source": [
        "# Practical_Q16\nMemory profiling: Use memory_profiler library: from memory_profiler import profile"
      ]
    },
    {
      "cell_type": "code",
      "metadata": {},
      "execution_count": null,
      "outputs": [],
      "source": [
        "# Practical_Q17\nWrite list to file: nums=[1,2,3]; with open('nums.txt','w') as f: [f.write(str(n)+'\\n') for n in nums]"
      ]
    },
    {
      "cell_type": "code",
      "metadata": {},
      "execution_count": null,
      "outputs": [],
      "source": [
        "# Practical_Q18\nRotating log: from logging.handlers import RotatingFileHandler"
      ]
    },
    {
      "cell_type": "code",
      "metadata": {},
      "execution_count": null,
      "outputs": [],
      "source": [
        "# Practical_Q19\nHandle IndexError & KeyError: try: lst=[]; print(lst[1]) except (IndexError,KeyError): print('Error')"
      ]
    },
    {
      "cell_type": "code",
      "metadata": {},
      "execution_count": null,
      "outputs": [],
      "source": [
        "# Practical_Q20\nRead file with context manager: with open('file.txt') as f: print(f.read())"
      ]
    },
    {
      "cell_type": "code",
      "metadata": {},
      "execution_count": null,
      "outputs": [],
      "source": [
        "# Practical_Q21\nCount word in file: with open('file.txt') as f: print(f.read().count('word'))"
      ]
    },
    {
      "cell_type": "code",
      "metadata": {},
      "execution_count": null,
      "outputs": [],
      "source": [
        "# Practical_Q22\nCheck empty file: import os; print(os.stat('file.txt').st_size==0)"
      ]
    },
    {
      "cell_type": "code",
      "metadata": {},
      "execution_count": null,
      "outputs": [],
      "source": [
        "# Practical_Q23\nLog error in file handling: try: open('nofile.txt') except Exception as e: logging.error('File error: %s',e)"
      ]
    }
  ],
  "metadata": {},
  "nbformat": 4,
  "nbformat_minor": 5
}